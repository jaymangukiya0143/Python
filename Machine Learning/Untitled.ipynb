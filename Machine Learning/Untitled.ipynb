{
 "cells": [
  {
   "cell_type": "code",
   "execution_count": 1,
   "id": "ecc5060f",
   "metadata": {},
   "outputs": [],
   "source": [
    "import pandas as pd"
   ]
  },
  {
   "cell_type": "code",
   "execution_count": 2,
   "id": "8a67f9b3",
   "metadata": {
    "scrolled": true
   },
   "outputs": [],
   "source": [
    "df = pd.read_excel('F:\\Showroom\\sales.xlsx')"
   ]
  },
  {
   "cell_type": "code",
   "execution_count": 3,
   "id": "c0130ea5",
   "metadata": {},
   "outputs": [
    {
     "data": {
      "text/html": [
       "<div>\n",
       "<style scoped>\n",
       "    .dataframe tbody tr th:only-of-type {\n",
       "        vertical-align: middle;\n",
       "    }\n",
       "\n",
       "    .dataframe tbody tr th {\n",
       "        vertical-align: top;\n",
       "    }\n",
       "\n",
       "    .dataframe thead th {\n",
       "        text-align: right;\n",
       "    }\n",
       "</style>\n",
       "<table border=\"1\" class=\"dataframe\">\n",
       "  <thead>\n",
       "    <tr style=\"text-align: right;\">\n",
       "      <th></th>\n",
       "      <th>DATE</th>\n",
       "      <th>CUSTOMER NAME</th>\n",
       "      <th>MOBILE NUMBER</th>\n",
       "      <th>DEPARTMENT</th>\n",
       "      <th>ITEM CODE</th>\n",
       "      <th>COLOR</th>\n",
       "      <th>SIZE</th>\n",
       "      <th>QTY</th>\n",
       "      <th>ITEM PRICE</th>\n",
       "      <th>TOTAL AMOUNT</th>\n",
       "      <th>PAID AMOUNT</th>\n",
       "      <th>STATUS</th>\n",
       "      <th>MODE OF PAYMENT</th>\n",
       "    </tr>\n",
       "  </thead>\n",
       "  <tbody>\n",
       "    <tr>\n",
       "      <th>0</th>\n",
       "      <td>2022-05-29</td>\n",
       "      <td>ASHOKBHAI</td>\n",
       "      <td>NaN</td>\n",
       "      <td>JOCKEY</td>\n",
       "      <td>FP03</td>\n",
       "      <td>BLACK</td>\n",
       "      <td>L</td>\n",
       "      <td>1.0</td>\n",
       "      <td>299.0</td>\n",
       "      <td>299</td>\n",
       "      <td>NaN</td>\n",
       "      <td>PENDING</td>\n",
       "      <td>NaN</td>\n",
       "    </tr>\n",
       "    <tr>\n",
       "      <th>1</th>\n",
       "      <td>2022-05-29</td>\n",
       "      <td>ASHOKBHAI</td>\n",
       "      <td>NaN</td>\n",
       "      <td>JOCKEY</td>\n",
       "      <td>FP03</td>\n",
       "      <td>CHARCOAL</td>\n",
       "      <td>L</td>\n",
       "      <td>1.0</td>\n",
       "      <td>299.0</td>\n",
       "      <td>299</td>\n",
       "      <td>NaN</td>\n",
       "      <td>PENDING</td>\n",
       "      <td>NaN</td>\n",
       "    </tr>\n",
       "    <tr>\n",
       "      <th>2</th>\n",
       "      <td>2022-05-29</td>\n",
       "      <td>ASHOKBHAI</td>\n",
       "      <td>NaN</td>\n",
       "      <td>JOCKEY</td>\n",
       "      <td>FP04</td>\n",
       "      <td>WHITE</td>\n",
       "      <td>L</td>\n",
       "      <td>2.0</td>\n",
       "      <td>329.0</td>\n",
       "      <td>658</td>\n",
       "      <td>NaN</td>\n",
       "      <td>PENDING</td>\n",
       "      <td>NaN</td>\n",
       "    </tr>\n",
       "    <tr>\n",
       "      <th>3</th>\n",
       "      <td>2022-05-29</td>\n",
       "      <td>ASHOKBHAI</td>\n",
       "      <td>NaN</td>\n",
       "      <td>JOCKEY</td>\n",
       "      <td>ZN 05</td>\n",
       "      <td>ASSORTED</td>\n",
       "      <td>M</td>\n",
       "      <td>1.0</td>\n",
       "      <td>359.0</td>\n",
       "      <td>359</td>\n",
       "      <td>NaN</td>\n",
       "      <td>PENDING</td>\n",
       "      <td>NaN</td>\n",
       "    </tr>\n",
       "  </tbody>\n",
       "</table>\n",
       "</div>"
      ],
      "text/plain": [
       "        DATE CUSTOMER NAME  MOBILE NUMBER DEPARTMENT ITEM CODE     COLOR SIZE  \\\n",
       "0 2022-05-29     ASHOKBHAI            NaN     JOCKEY      FP03     BLACK    L   \n",
       "1 2022-05-29     ASHOKBHAI            NaN     JOCKEY      FP03  CHARCOAL    L   \n",
       "2 2022-05-29     ASHOKBHAI            NaN     JOCKEY      FP04     WHITE    L   \n",
       "3 2022-05-29     ASHOKBHAI            NaN     JOCKEY     ZN 05  ASSORTED    M   \n",
       "\n",
       "   QTY  ITEM PRICE  TOTAL AMOUNT  PAID AMOUNT   STATUS MODE OF PAYMENT  \n",
       "0  1.0       299.0           299          NaN  PENDING             NaN  \n",
       "1  1.0       299.0           299          NaN  PENDING             NaN  \n",
       "2  2.0       329.0           658          NaN  PENDING             NaN  \n",
       "3  1.0       359.0           359          NaN  PENDING             NaN  "
      ]
     },
     "execution_count": 3,
     "metadata": {},
     "output_type": "execute_result"
    }
   ],
   "source": [
    "#PENDING PAYMENT\n",
    "\n",
    "df[df['STATUS']=='PENDING']"
   ]
  },
  {
   "cell_type": "code",
   "execution_count": 4,
   "id": "a8b3dfff",
   "metadata": {},
   "outputs": [
    {
     "name": "stdout",
     "output_type": "stream",
     "text": [
      "Total amount of sales :  7981\n",
      "Total amount pending :  1615\n",
      "Total cash received :  4155\n",
      "Total upi received :  596\n"
     ]
    }
   ],
   "source": [
    "#TOTAL AMOUNT OF SALES\n",
    "\n",
    "total_amount_of_sales = df[['TOTAL AMOUNT']].sum()[0]\n",
    "print('Total amount of sales : ',total_amount_of_sales)\n",
    "\n",
    "#TOTAL PENDING AMOUNT\n",
    "\n",
    "total_pending_amount = df[['TOTAL AMOUNT','STATUS']]\n",
    "total_pending_amount = total_pending_amount[total_pending_amount.STATUS=='PENDING']\n",
    "total_pending_amount = total_pending_amount['TOTAL AMOUNT'].sum()\n",
    "print('Total amount pending : ',total_pending_amount)\n",
    "\n",
    "#TOTAL CASH and UPI Transactions\n",
    " \n",
    "def split_trans(mode):\n",
    "    temp_df = df[['STATUS','TOTAL AMOUNT','MODE OF PAYMENT']]\n",
    "    temp_df = temp_df[temp_df.STATUS=='PAID']\n",
    "    temp_df = temp_df[temp_df['MODE OF PAYMENT']==mode]\n",
    "    return temp_df['TOTAL AMOUNT'].sum()\n",
    "\n",
    "print('Total cash received : ',split_trans('CASH'))\n",
    "print('Total upi received : ',split_trans(\"JAY'S UPI\"))"
   ]
  },
  {
   "cell_type": "code",
   "execution_count": 5,
   "id": "cfd3b636",
   "metadata": {},
   "outputs": [
    {
     "ename": "SyntaxError",
     "evalue": "invalid syntax (Temp/ipykernel_13172/209398656.py, line 9)",
     "output_type": "error",
     "traceback": [
      "\u001b[1;36m  File \u001b[1;32m\"C:\\Users\\Lenovo\\AppData\\Local\\Temp/ipykernel_13172/209398656.py\"\u001b[1;36m, line \u001b[1;32m9\u001b[0m\n\u001b[1;33m    if count_dict.\u001b[0m\n\u001b[1;37m                  ^\u001b[0m\n\u001b[1;31mSyntaxError\u001b[0m\u001b[1;31m:\u001b[0m invalid syntax\n"
     ]
    }
   ],
   "source": [
    "#WHICH ITEM IS SOLD MOST\n",
    "\n",
    "temp_df = df[['ITEM CODE','COLOR','QTY']]\n",
    "print(temp_df)\n",
    "\n",
    "count_dict = {}\n",
    "\n",
    "def count_funct(x):\n",
    "    if count_dict.\n",
    "    for i,c,q in x:\n",
    "        pass\n",
    "\n",
    "items = temp_df[['ITEM CODE']]\n",
    "colors = temp_df[['COLOR']]\n",
    "qty = temp_df[['QTY']]\n",
    "\n",
    "x = zip(items.items(), colors.items(), qty.items())\n",
    "count_funct(x)"
   ]
  }
 ],
 "metadata": {
  "kernelspec": {
   "display_name": "Python 3 (ipykernel)",
   "language": "python",
   "name": "python3"
  },
  "language_info": {
   "codemirror_mode": {
    "name": "ipython",
    "version": 3
   },
   "file_extension": ".py",
   "mimetype": "text/x-python",
   "name": "python",
   "nbconvert_exporter": "python",
   "pygments_lexer": "ipython3",
   "version": "3.9.7"
  }
 },
 "nbformat": 4,
 "nbformat_minor": 5
}
