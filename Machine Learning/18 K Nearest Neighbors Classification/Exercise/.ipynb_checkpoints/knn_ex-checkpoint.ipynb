{
 "cells": [
  {
   "cell_type": "code",
   "execution_count": 34,
   "id": "bf6645d9",
   "metadata": {},
   "outputs": [],
   "source": [
    "import pandas as pd\n",
    "\n",
    "from sklearn.datasets import load_digits\n",
    "from sklearn.neighbors import KNeighborsClassifier\n",
    "from sklearn.model_selection import train_test_split, GridSearchCV\n",
    "from sklearn.metrics import confusion_matrix, classification_report\n",
    "import seaborn as sn\n",
    "import matplotlib.pyplot as plt"
   ]
  },
  {
   "cell_type": "code",
   "execution_count": 35,
   "id": "517496b8",
   "metadata": {},
   "outputs": [],
   "source": [
    "digits = load_digits()"
   ]
  },
  {
   "cell_type": "code",
   "execution_count": 36,
   "id": "94fd7e09",
   "metadata": {},
   "outputs": [
    {
     "data": {
      "text/plain": [
       "0.9822222222222222"
      ]
     },
     "execution_count": 36,
     "metadata": {},
     "output_type": "execute_result"
    }
   ],
   "source": [
    "X_train, X_test, y_train, y_test = train_test_split(digits.data, digits.target)\n",
    "\n",
    "knn_model = KNeighborsClassifier(n_neighbors=10)\n",
    "knn_model.fit(digits.data, digits.target)\n",
    "knn_model.score(X_test, y_test)"
   ]
  },
  {
   "cell_type": "code",
   "execution_count": 37,
   "id": "8c967965",
   "metadata": {},
   "outputs": [
    {
     "name": "stdout",
     "output_type": "stream",
     "text": [
      "{'n_neighbors': 10}\n",
      "0.9747624948368442\n",
      "{'mean_fit_time': array([0.00159965, 0.00472403, 0.        ]), 'std_fit_time': array([0.00319929, 0.00626762, 0.        ]), 'mean_score_time': array([0.03267927, 0.02535381, 0.03386059]), 'std_score_time': array([0.00487737, 0.00820567, 0.00319429]), 'param_n_neighbors': masked_array(data=[10, 20, 30],\n",
      "             mask=[False, False, False],\n",
      "       fill_value='?',\n",
      "            dtype=object), 'params': [{'n_neighbors': 10}, {'n_neighbors': 20}, {'n_neighbors': 30}], 'split0_test_score': array([0.98518519, 0.98888889, 0.98148148]), 'split1_test_score': array([0.95925926, 0.95555556, 0.94444444]), 'split2_test_score': array([0.98513011, 0.95910781, 0.95910781]), 'split3_test_score': array([0.9739777 , 0.96282528, 0.95539033]), 'split4_test_score': array([0.97026022, 0.95910781, 0.95539033]), 'mean_test_score': array([0.97476249, 0.96509707, 0.95916288]), 'std_test_score': array([0.00977094, 0.01211606, 0.01219196]), 'rank_test_score': array([1, 2, 3])}\n"
     ]
    }
   ],
   "source": [
    "clf = GridSearchCV(KNeighborsClassifier() , {\n",
    "    'n_neighbors': [10,20,30]\n",
    "}, cv=5, return_train_score=False)\n",
    "\n",
    "clf.fit(X_train, y_train)\n",
    "print(clf.best_params_)\n",
    "print(clf.best_score_)\n",
    "print(clf.cv_results_)"
   ]
  },
  {
   "cell_type": "code",
   "execution_count": 38,
   "id": "fd12db8e",
   "metadata": {},
   "outputs": [
    {
     "data": {
      "text/plain": [
       "Text(69.0, 0.5, 'Truth')"
      ]
     },
     "execution_count": 38,
     "metadata": {},
     "output_type": "execute_result"
    },
    {
     "data": {
      "image/png": "[encoded data removed]",
      "text/plain": [
       "<Figure size 720x504 with 2 Axes>"
      ]
     },
     "metadata": {
      "needs_background": "light"
     },
     "output_type": "display_data"
    }
   ],
   "source": [
    "y_predicted = clf.predict(X_test)\n",
    "\n",
    "cm = confusion_matrix(y_test, y_predicted)\n",
    "\n",
    "plt.figure(figsize=(10,7))\n",
    "sn.heatmap(cm, annot=True)\n",
    "plt.xlabel('Predicted')\n",
    "plt.ylabel('Truth')"
   ]
  },
  {
   "cell_type": "code",
   "execution_count": 39,
   "id": "267453b8",
   "metadata": {},
   "outputs": [
    {
     "data": {
      "text/plain": [
       "'              precision    recall  f1-score   support\\n\\n           0       1.00      1.00      1.00        40\\n           1       0.91      0.98      0.94        51\\n           2       1.00      0.95      0.97        40\\n           3       0.98      0.98      0.98        43\\n           4       1.00      1.00      1.00        41\\n           5       0.98      0.98      0.98        55\\n           6       0.98      0.98      0.98        42\\n           7       0.93      1.00      0.97        43\\n           8       0.97      0.87      0.92        45\\n           9       1.00      1.00      1.00        50\\n\\n    accuracy                           0.97       450\\n   macro avg       0.98      0.97      0.97       450\\nweighted avg       0.97      0.97      0.97       450\\n'"
      ]
     },
     "execution_count": 39,
     "metadata": {},
     "output_type": "execute_result"
    }
   ],
   "source": [
    "classification_report(y_test, y_predicted)"
   ]
  }
 ],
 "metadata": {
  "kernelspec": {
   "display_name": "Python 3 (ipykernel)",
   "language": "python",
   "name": "python3"
  },
  "language_info": {
   "codemirror_mode": {
    "name": "ipython",
    "version": 3
   },
   "file_extension": ".py",
   "mimetype": "text/x-python",
   "name": "python",
   "nbconvert_exporter": "python",
   "pygments_lexer": "ipython3",
   "version": "3.9.7"
  }
 },
 "nbformat": 4,
 "nbformat_minor": 5
}
